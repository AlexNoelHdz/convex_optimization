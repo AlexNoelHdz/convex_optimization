{
  "nbformat": 4,
  "nbformat_minor": 0,
  "metadata": {
    "colab": {
      "provenance": [],
      "authorship_tag": "ABX9TyM3YQxNjKZOt1VTZNITGbzP",
      "include_colab_link": true
    },
    "kernelspec": {
      "name": "python3",
      "display_name": "Python 3"
    },
    "language_info": {
      "name": "python"
    }
  },
  "cells": [
    {
      "cell_type": "markdown",
      "metadata": {
        "id": "view-in-github",
        "colab_type": "text"
      },
      "source": [
        "<a href=\"https://colab.research.google.com/github/AlexNoelHdz/convex_optimization/blob/main/Symbolic_Transformer.ipynb\" target=\"_parent\"><img src=\"https://colab.research.google.com/assets/colab-badge.svg\" alt=\"Open In Colab\"/></a>"
      ]
    },
    {
      "cell_type": "markdown",
      "source": [
        "Generar nuevas características no lineales usando SymbolicTransformer\n"
      ],
      "metadata": {
        "id": "6No1jztP1rTb"
      }
    },
    {
      "cell_type": "markdown",
      "source": [
        "Instalar gplearn o librerías no presentes en el servidor. "
      ],
      "metadata": {
        "id": "aNvNXcej2bOj"
      }
    },
    {
      "cell_type": "code",
      "source": [
        "pip install gplearn"
      ],
      "metadata": {
        "colab": {
          "base_uri": "https://localhost:8080/"
        },
        "id": "ZGxeBOJc2KFx",
        "outputId": "e739b46d-cadb-42ba-ff5c-3ab5cbfa3897"
      },
      "execution_count": 2,
      "outputs": [
        {
          "output_type": "stream",
          "name": "stdout",
          "text": [
            "Looking in indexes: https://pypi.org/simple, https://us-python.pkg.dev/colab-wheels/public/simple/\n",
            "Collecting gplearn\n",
            "  Downloading gplearn-0.4.2-py3-none-any.whl (25 kB)\n",
            "Requirement already satisfied: joblib>=1.0.0 in /usr/local/lib/python3.7/dist-packages (from gplearn) (1.1.0)\n",
            "Requirement already satisfied: scikit-learn>=1.0.2 in /usr/local/lib/python3.7/dist-packages (from gplearn) (1.0.2)\n",
            "Requirement already satisfied: threadpoolctl>=2.0.0 in /usr/local/lib/python3.7/dist-packages (from scikit-learn>=1.0.2->gplearn) (3.1.0)\n",
            "Requirement already satisfied: numpy>=1.14.6 in /usr/local/lib/python3.7/dist-packages (from scikit-learn>=1.0.2->gplearn) (1.21.6)\n",
            "Requirement already satisfied: scipy>=1.1.0 in /usr/local/lib/python3.7/dist-packages (from scikit-learn>=1.0.2->gplearn) (1.7.3)\n",
            "Installing collected packages: gplearn\n",
            "Successfully installed gplearn-0.4.2\n"
          ]
        }
      ]
    },
    {
      "cell_type": "code",
      "execution_count": 3,
      "metadata": {
        "id": "_IaeM2F-1jpn"
      },
      "outputs": [],
      "source": [
        "from gplearn.genetic import SymbolicTransformer\n",
        "from sklearn.utils import check_random_state\n",
        "from sklearn.datasets import load_diabetes\n",
        "import numpy as np"
      ]
    },
    {
      "cell_type": "markdown",
      "source": [
        "Cargar el dataset de Diabetes y definir una semilla para que los datos aleatorios se carguen igual en cada ejecución\n"
      ],
      "metadata": {
        "id": "P9m-jcs720EC"
      }
    },
    {
      "cell_type": "code",
      "source": [
        "rng = check_random_state(0)\n",
        "diabetes = load_diabetes()\n",
        "perm = rng.permutation(diabetes.target.size)\n",
        "diabetes.data = diabetes.data[perm]\n",
        "diabetes.target = diabetes.target[perm]"
      ],
      "metadata": {
        "id": "ttkL0ZUK2T4G"
      },
      "execution_count": 4,
      "outputs": []
    },
    {
      "cell_type": "markdown",
      "source": [
        "Estás son las features o características del objeto de estudio: "
      ],
      "metadata": {
        "id": "o_0jBCPl4dxI"
      }
    },
    {
      "cell_type": "code",
      "source": [
        "diabetes.feature_names"
      ],
      "metadata": {
        "colab": {
          "base_uri": "https://localhost:8080/"
        },
        "id": "ip6Ns5RE4Bu9",
        "outputId": "21dfaff6-6588-4373-b87c-518f9a3bea94"
      },
      "execution_count": 8,
      "outputs": [
        {
          "output_type": "execute_result",
          "data": {
            "text/plain": [
              "['age', 'sex', 'bmi', 'bp', 's1', 's2', 's3', 's4', 's5', 's6']"
            ]
          },
          "metadata": {},
          "execution_count": 8
        }
      ]
    },
    {
      "cell_type": "markdown",
      "source": [
        "Se entrenará el regresor con las primeras 300 muestras, usando [RIDGE](https://scikit-learn.org/stable/modules/generated/sklearn.linear_model.Ridge.html) Regression de la librería sklearn. \n",
        "Vamos a revisar el comportamiento del modelo con las 300 muestras finales. \n",
        "Score compara los datos reales (target data) con los obtenidos con el modelo entrenado y nos da un numero que determina que tan exacta es la predicción."
      ],
      "metadata": {
        "id": "FvtXidch5OAg"
      }
    },
    {
      "cell_type": "code",
      "source": [
        "from sklearn.linear_model import Ridge\n",
        "est = Ridge()\n",
        "# 300 sample data / target data\n",
        "sample_data = diabetes.data[:300, :]\n",
        "sample_target_data = diabetes.target[:300]\n",
        "est.fit(sample_data, sample_target_data)\n",
        "# score(X: Training Data, y: Target Values) \n",
        "# Return the coefficient of determination of the prediction.\n",
        "print(est.score(diabetes.data[300:, :], diabetes.target[300:]))"
      ],
      "metadata": {
        "colab": {
          "base_uri": "https://localhost:8080/"
        },
        "id": "06ImXwFG4dXQ",
        "outputId": "1d4f1dad-1718-4e3c-ecc1-e2b309409e93"
      },
      "execution_count": 12,
      "outputs": [
        {
          "output_type": "stream",
          "name": "stdout",
          "text": [
            "0.4340571824299352\n"
          ]
        }
      ]
    },
    {
      "cell_type": "markdown",
      "source": [
        "El proximo paso es entrenar el transformador [SymbolicTransformer](https://gplearn.readthedocs.io/en/stable/reference.html#symbolic-transformer).\n",
        "\n",
        "Se utilizarán los 300 datos de muestra con que se entrenó el regresor. \n",
        "El objetivo es generar nuevos features. \n",
        "\n",
        "En este transformador se usarán: \n",
        "  - Población de 2000 individuos a lo largo de 20 generaciones.\n",
        "  - Seleccionar las mejores 100 muestras (Parámetro: hall_of_fame)\n",
        "  - Usar las 10 menos correlacionadas como nueva feature (Parámetro: n_components)\n"
      ],
      "metadata": {
        "id": "vLJF3XYy5VYg"
      }
    },
    {
      "cell_type": "code",
      "source": [
        "function_set = ['add', 'sub', 'mul', 'div', 'sqrt', 'log',\n",
        "                'abs', 'neg', 'inv', 'max', 'min']\n",
        "gp = SymbolicTransformer(generations=20, population_size=2000,\n",
        "                         hall_of_fame=100, n_components=10,\n",
        "                         function_set=function_set,\n",
        "                         parsimony_coefficient=0.0005,\n",
        "                         max_samples=0.9, verbose=1,\n",
        "                         random_state=0)\n",
        "gp.fit(sample_data, sample_target_data)"
      ],
      "metadata": {
        "colab": {
          "base_uri": "https://localhost:8080/"
        },
        "id": "CUY60xf_Dyn7",
        "outputId": "3e7fcb4b-17ab-4dce-c6e1-8c6193c8989f"
      },
      "execution_count": 13,
      "outputs": [
        {
          "output_type": "stream",
          "name": "stdout",
          "text": [
            "    |   Population Average    |             Best Individual              |\n",
            "---- ------------------------- ------------------------------------------ ----------\n",
            " Gen   Length          Fitness   Length          Fitness      OOB Fitness  Time Left\n",
            "   0    11.37         0.126617        5         0.612825         0.680003     40.51s\n",
            "   1     6.63         0.344374        3         0.659085         0.451792     39.24s\n",
            "   2     5.36          0.47373        3         0.669018         0.321485     35.44s\n",
            "   3     4.74         0.587613        3         0.673353         0.312487     32.84s\n",
            "   4     4.39         0.597168       13         0.675281         0.494818     31.01s\n",
            "   5     4.31         0.611994       15         0.686134         0.148192     37.39s\n",
            "   6     4.89         0.611891        9         0.685649         0.199004     29.39s\n",
            "   7     6.49         0.617031        9         0.688308         0.287285     25.63s\n",
            "   8     9.19         0.628526       17         0.720605         0.263613     22.45s\n",
            "   9    11.44         0.637057       18         0.701905         0.607695     22.22s\n",
            "  10    15.19         0.646744       31         0.709565         0.485818     21.13s\n",
            "  11    18.69         0.654609       28         0.717319         0.373911     19.65s\n",
            "  12    21.14         0.660923       28         0.714525         0.388123     16.14s\n",
            "  13    23.66         0.664435       24         0.717779         0.499735     13.81s\n",
            "  14    23.80         0.665121       40         0.717637         0.454893     11.51s\n",
            "  15    24.05         0.668179       32         0.718169         0.357271      9.30s\n",
            "  16    24.55         0.666115       26         0.718859         0.382449      8.61s\n",
            "  17    24.84         0.666421       27         0.715717         0.487777      5.47s\n",
            "  18    25.59         0.665822       30         0.720983         0.479337      2.51s\n",
            "  19    26.25         0.669091       45         0.722444         0.365521      0.00s\n"
          ]
        },
        {
          "output_type": "execute_result",
          "data": {
            "text/plain": [
              "SymbolicTransformer(function_set=['add', 'sub', 'mul', 'div', 'sqrt', 'log',\n",
              "                                  'abs', 'neg', 'inv', 'max', 'min'],\n",
              "                    max_samples=0.9, parsimony_coefficient=0.0005,\n",
              "                    population_size=2000, random_state=0, verbose=1)"
            ]
          },
          "metadata": {},
          "execution_count": 13
        }
      ]
    },
    {
      "cell_type": "markdown",
      "source": [
        "Aplicar la transformación a todo el set de datos con el gp entrenado. "
      ],
      "metadata": {
        "id": "dCsU_XFzEKtr"
      }
    },
    {
      "cell_type": "code",
      "source": [
        "gp_features = gp.transform(diabetes.data)\n",
        "gp_features"
      ],
      "metadata": {
        "colab": {
          "base_uri": "https://localhost:8080/"
        },
        "id": "QDPgh9rSEKLy",
        "outputId": "1b7d40e1-6285-46d3-fa77-cb426a1ac64e"
      },
      "execution_count": 15,
      "outputs": [
        {
          "output_type": "execute_result",
          "data": {
            "text/plain": [
              "array([[ 0.24236152, -0.24866552, -0.38250661, ...,  0.38751358,\n",
              "        -0.4873153 , -0.39010584],\n",
              "       [ 0.20064364, -0.23654608, -0.30636002, ...,  0.26846855,\n",
              "        -0.36697841, -0.23415969],\n",
              "       [ 0.04846929, -0.02405987, -0.03664407, ...,  0.00391138,\n",
              "        -0.07973569, -0.01482502],\n",
              "       ...,\n",
              "       [ 0.22205692, -0.25126335, -0.49571211, ...,  0.27988268,\n",
              "        -0.47441679, -0.23813384],\n",
              "       [-0.09114857,  0.09114857,  0.09114857, ..., -0.09114857,\n",
              "         0.09114857,  0.09114857],\n",
              "       [ 0.19971279, -0.23881401, -0.29372021, ...,  0.27921018,\n",
              "        -0.36511673, -0.24490132]])"
            ]
          },
          "metadata": {},
          "execution_count": 15
        }
      ]
    },
    {
      "cell_type": "markdown",
      "source": [
        "Concatenar los nuevos features a la base de datos original."
      ],
      "metadata": {
        "id": "C6WTL90SEifP"
      }
    },
    {
      "cell_type": "code",
      "source": [
        "new_diabetes = np.hstack((diabetes.data, gp_features))"
      ],
      "metadata": {
        "id": "h9uvhbRiEyWr"
      },
      "execution_count": 17,
      "outputs": []
    },
    {
      "cell_type": "markdown",
      "source": [
        "Entrenar de nuevo Ridge con los datos que ya tienen los nuevos features. Y revisar con los últimos 300 datos el score. \n",
        "\n",
        "Observa que incrementa al incrementar la cantidad de features. "
      ],
      "metadata": {
        "id": "Z3IJZVQqFRyV"
      }
    },
    {
      "cell_type": "code",
      "source": [
        "est = Ridge()\n",
        "# 300 sample data / target data\n",
        "sample_data = new_diabetes[:300, :]\n",
        "sample_target_data = diabetes.target[:300]\n",
        "est.fit(sample_data, sample_target_data)\n",
        "print(est.score(new_diabetes[300:, :], diabetes.target[300:]))"
      ],
      "metadata": {
        "colab": {
          "base_uri": "https://localhost:8080/"
        },
        "id": "VoQWSuEVE7Ot",
        "outputId": "3976e251-0c80-4160-8d77-ae5ccf63c146"
      },
      "execution_count": 19,
      "outputs": [
        {
          "output_type": "stream",
          "name": "stdout",
          "text": [
            "0.5336811804650683\n"
          ]
        }
      ]
    },
    {
      "cell_type": "markdown",
      "source": [
        "Como es posible ver, se ha mejorado significatvamente el score. El modelo lineal due capaz de tomar ventaja de features no lineales para predecir los datos mejor. "
      ],
      "metadata": {
        "id": "h71wWJnsQfNo"
      }
    }
  ]
}